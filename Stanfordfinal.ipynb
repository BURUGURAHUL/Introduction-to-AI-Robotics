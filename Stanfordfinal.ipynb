{
 "cells": [
  {
   "cell_type": "markdown",
   "metadata": {},
   "source": [
    "## **ANALYTICAL FORWARD AND INVERSE KINEMATICS**"
   ]
  },
  {
   "cell_type": "markdown",
   "metadata": {},
   "source": [
    "**Importing necessary libraries**"
   ]
  },
  {
   "cell_type": "code",
   "execution_count": 2,
   "metadata": {},
   "outputs": [],
   "source": [
    "from spatialmath import SE3\n",
    "from spatialmath.base import *\n",
    "import roboticstoolbox as rtb\n",
    "import numpy as np\n",
    "import sympy as sym"
   ]
  },
  {
   "cell_type": "code",
   "execution_count": 3,
   "metadata": {},
   "outputs": [],
   "source": [
    "# Define joint variables using SymPy\n",
    "theta_1 = sym.Symbol('theta_1')\n",
    "theta_2 = sym.Symbol('theta_2')\n",
    "d_3 = sym.Symbol('d_3')\n",
    "theta_4 = sym.Symbol('theta_4')\n",
    "theta_5 = sym.Symbol('theta_5')\n",
    "theta_6 = sym.Symbol('theta_6')"
   ]
  },
  {
   "cell_type": "markdown",
   "metadata": {},
   "source": [
    "**Custom Stanford Robot Class with Standard DH Parameters and Joint Limits**"
   ]
  },
  {
   "cell_type": "code",
   "execution_count": 5,
   "metadata": {},
   "outputs": [],
   "source": [
    "class StanfordG2(rtb.DHRobot):\n",
    "    def __init__(self):\n",
    "        super().__init__(\n",
    "            [\n",
    "                rtb.RevoluteDH(d=0.412, a=0, alpha=-np.pi/2),\n",
    "                rtb.RevoluteDH(d=0.154, a=0, alpha=np.pi/2),\n",
    "                rtb.PrismaticDH(theta=0, a=0, alpha=0, qlim=[0.1, 1.0]),  # Setting limits for the prismatic joint\n",
    "                rtb.RevoluteDH(a=0, alpha=-np.pi/2),\n",
    "                rtb.RevoluteDH(a=0, alpha=np.pi/2),\n",
    "                rtb.RevoluteDH(d=0, a=0, alpha=0),\n",
    "            ], name=\"StanfordG2\"\n",
    "        )\n",
    "\n",
    "    def ikine(self, T, q0=None, **kwargs):\n",
    "        \"\"\"\n",
    "        Compute the inverse kinematics for the Stanford robot.\n",
    "\n",
    "        :param T: Desired end-effector pose (SE3 object).\n",
    "        :param q0: Initial guess for joint coordinates.\n",
    "        :return: Named tuple containing the solution.\n",
    "        \"\"\"\n",
    "        sol = self.ikine_LM(T, q0=q0, **kwargs)\n",
    "        return sol"
   ]
  },
  {
   "cell_type": "code",
   "execution_count": 6,
   "metadata": {},
   "outputs": [
    {
     "data": {
      "text/plain": [
       "DHRobot: StanfordG2, 6 joints (RRPRRR), dynamics, standard DH parameters\n",
       "┌─────┬───────┬────┬────────┬─────────┬────────┐\n",
       "│ θⱼ  │  dⱼ   │ aⱼ │   ⍺ⱼ   │   q⁻    │   q⁺   │\n",
       "├─────┼───────┼────┼────────┼─────────┼────────┤\n",
       "│ q1  │ 0.412 │  0 │ -90.0° │ -180.0° │ 180.0° │\n",
       "│ q2  │ 0.154 │  0 │  90.0° │ -180.0° │ 180.0° │\n",
       "│0.0° │    q3 │  0 │   0.0° │     0.1 │    1.0 │\n",
       "│ q4  │     0 │  0 │ -90.0° │ -180.0° │ 180.0° │\n",
       "│ q5  │     0 │  0 │  90.0° │ -180.0° │ 180.0° │\n",
       "│ q6  │     0 │  0 │   0.0° │ -180.0° │ 180.0° │\n",
       "└─────┴───────┴────┴────────┴─────────┴────────┘\n",
       "\n",
       "┌─┬──┐\n",
       "└─┴──┘"
      ]
     },
     "execution_count": 6,
     "metadata": {},
     "output_type": "execute_result"
    }
   ],
   "source": [
    "stanford_g2_robot = StanfordG2()\n",
    "stanford_g2_robot"
   ]
  },
  {
   "cell_type": "code",
   "execution_count": 7,
   "metadata": {},
   "outputs": [
    {
     "data": {
      "text/latex": [
       "$\\displaystyle \\left[\\begin{matrix}0.0135032803477586 & 0.554769938744441 & -0.831894209912137 & -1.5531347860644\\\\-0.241696844416887 & 0.809110022868043 & 0.535652505168597 & -1.19052795507814\\\\0.970257850686491 & 0.193833139478172 & 0.14501178304285 & -1.86706373857646\\\\0.0 & 0.0 & 0.0 & 1.0\\end{matrix}\\right]$"
      ],
      "text/plain": [
       "[[0.0135032803477586, 0.554769938744441, -0.831894209912137, -1.5531347860644], [-0.241696844416887, 0.809110022868043, 0.535652505168597, -1.19052795507814], [0.970257850686491, 0.193833139478172, 0.14501178304285, -1.86706373857646], [0.0, 0.0, 0.0, 1.0]]"
      ]
     },
     "execution_count": 7,
     "metadata": {},
     "output_type": "execute_result"
    }
   ],
   "source": [
    "T= stanford_g2_robot.fkine([10,15,3,20,30,40])\n",
    "sym.simplify(T.A)"
   ]
  },
  {
   "cell_type": "code",
   "execution_count": 8,
   "metadata": {},
   "outputs": [
    {
     "data": {
      "text/latex": [
       "$\\displaystyle \\left[\\begin{matrix}- \\left(\\left(1.0 \\sin{\\left(\\theta_{1} \\right)} \\sin{\\left(\\theta_{4} \\right)} + 5.55111512312578 \\cdot 10^{-17} \\sin{\\left(\\theta_{2} \\right)} \\sin{\\left(\\theta_{4} \\right)} \\cos{\\left(\\theta_{1} \\right)} - 1.0 \\cos{\\left(\\theta_{1} \\right)} \\cos{\\left(\\theta_{2} \\right)} \\cos{\\left(\\theta_{4} \\right)}\\right) \\cos{\\left(\\theta_{5} \\right)} + \\left(6.12323399573677 \\cdot 10^{-17} \\cdot \\left(3.74939945665464 \\cdot 10^{-33} \\sin{\\left(\\theta_{1} \\right)} \\cos{\\left(\\theta_{2} \\right)} + 1.0 \\sin{\\left(\\theta_{1} \\right)} + 6.12323399573677 \\cdot 10^{-17} \\sin{\\left(\\theta_{2} \\right)} \\cos{\\left(\\theta_{1} \\right)}\\right) \\cos{\\left(\\theta_{4} \\right)} + 6.12323399573677 \\cdot 10^{-17} \\sin{\\left(\\theta_{1} \\right)} \\cos{\\left(\\theta_{2} \\right)} - 6.12323399573677 \\cdot 10^{-17} \\sin{\\left(\\theta_{1} \\right)} + 1.0 \\sin{\\left(\\theta_{2} \\right)} \\cos{\\left(\\theta_{1} \\right)} + 1.53080849893419 \\cdot 10^{-17} \\sin{\\left(- \\theta_{1} + \\theta_{2} + \\theta_{4} \\right)} + 1.53080849893419 \\cdot 10^{-17} \\sin{\\left(\\theta_{1} - \\theta_{2} + \\theta_{4} \\right)} - 1.53080849893419 \\cdot 10^{-17} \\sin{\\left(\\theta_{1} + \\theta_{2} - \\theta_{4} \\right)} + 1.53080849893419 \\cdot 10^{-17} \\sin{\\left(\\theta_{1} + \\theta_{2} + \\theta_{4} \\right)}\\right) \\sin{\\left(\\theta_{5} \\right)}\\right) \\cos{\\left(\\theta_{6} \\right)} - \\left(- 6.12323399573677 \\cdot 10^{-17} \\cdot \\left(1.0 \\sin{\\left(\\theta_{1} \\right)} \\sin{\\left(\\theta_{4} \\right)} + 5.55111512312578 \\cdot 10^{-17} \\sin{\\left(\\theta_{2} \\right)} \\sin{\\left(\\theta_{4} \\right)} \\cos{\\left(\\theta_{1} \\right)} - 1.0 \\cos{\\left(\\theta_{1} \\right)} \\cos{\\left(\\theta_{2} \\right)} \\cos{\\left(\\theta_{4} \\right)}\\right) \\sin{\\left(\\theta_{5} \\right)} + 1.0 \\cdot \\left(3.74939945665464 \\cdot 10^{-33} \\sin{\\left(\\theta_{1} \\right)} \\cos{\\left(\\theta_{2} \\right)} + 1.0 \\sin{\\left(\\theta_{1} \\right)} + 6.12323399573677 \\cdot 10^{-17} \\sin{\\left(\\theta_{2} \\right)} \\cos{\\left(\\theta_{1} \\right)}\\right) \\cos{\\left(\\theta_{4} \\right)} + 6.12323399573677 \\cdot 10^{-17} \\cdot \\left(6.12323399573677 \\cdot 10^{-17} \\cdot \\left(3.74939945665464 \\cdot 10^{-33} \\sin{\\left(\\theta_{1} \\right)} \\cos{\\left(\\theta_{2} \\right)} + 1.0 \\sin{\\left(\\theta_{1} \\right)} + 6.12323399573677 \\cdot 10^{-17} \\sin{\\left(\\theta_{2} \\right)} \\cos{\\left(\\theta_{1} \\right)}\\right) \\cos{\\left(\\theta_{4} \\right)} + 6.12323399573677 \\cdot 10^{-17} \\sin{\\left(\\theta_{1} \\right)} \\cos{\\left(\\theta_{2} \\right)} - 6.12323399573677 \\cdot 10^{-17} \\sin{\\left(\\theta_{1} \\right)} + 1.0 \\sin{\\left(\\theta_{2} \\right)} \\cos{\\left(\\theta_{1} \\right)} + 1.53080849893419 \\cdot 10^{-17} \\sin{\\left(- \\theta_{1} + \\theta_{2} + \\theta_{4} \\right)} + 1.53080849893419 \\cdot 10^{-17} \\sin{\\left(\\theta_{1} - \\theta_{2} + \\theta_{4} \\right)} - 1.53080849893419 \\cdot 10^{-17} \\sin{\\left(\\theta_{1} + \\theta_{2} - \\theta_{4} \\right)} + 1.53080849893419 \\cdot 10^{-17} \\sin{\\left(\\theta_{1} + \\theta_{2} + \\theta_{4} \\right)}\\right) \\cos{\\left(\\theta_{5} \\right)} - 3.74939945665464 \\cdot 10^{-33} \\sin{\\left(\\theta_{1} \\right)} \\cos{\\left(\\theta_{2} \\right)} + 3.74939945665464 \\cdot 10^{-33} \\sin{\\left(\\theta_{1} \\right)} - 6.12323399573677 \\cdot 10^{-17} \\sin{\\left(\\theta_{2} \\right)} \\cos{\\left(\\theta_{1} \\right)} + 0.25 \\sin{\\left(- \\theta_{1} + \\theta_{2} + \\theta_{4} \\right)} + 0.25 \\sin{\\left(\\theta_{1} - \\theta_{2} + \\theta_{4} \\right)} - 0.25 \\sin{\\left(\\theta_{1} + \\theta_{2} - \\theta_{4} \\right)} + 0.25 \\sin{\\left(\\theta_{1} + \\theta_{2} + \\theta_{4} \\right)}\\right) \\sin{\\left(\\theta_{6} \\right)} & 1.0 \\left(\\left(1.0 \\sin{\\left(\\theta_{1} \\right)} \\sin{\\left(\\theta_{4} \\right)} + 5.55111512312578 \\cdot 10^{-17} \\sin{\\left(\\theta_{2} \\right)} \\sin{\\left(\\theta_{4} \\right)} \\cos{\\left(\\theta_{1} \\right)} - 1.0 \\cos{\\left(\\theta_{1} \\right)} \\cos{\\left(\\theta_{2} \\right)} \\cos{\\left(\\theta_{4} \\right)}\\right) \\cos{\\left(\\theta_{5} \\right)} + \\left(6.12323399573677 \\cdot 10^{-17} \\cdot \\left(3.74939945665464 \\cdot 10^{-33} \\sin{\\left(\\theta_{1} \\right)} \\cos{\\left(\\theta_{2} \\right)} + 1.0 \\sin{\\left(\\theta_{1} \\right)} + 6.12323399573677 \\cdot 10^{-17} \\sin{\\left(\\theta_{2} \\right)} \\cos{\\left(\\theta_{1} \\right)}\\right) \\cos{\\left(\\theta_{4} \\right)} + 6.12323399573677 \\cdot 10^{-17} \\sin{\\left(\\theta_{1} \\right)} \\cos{\\left(\\theta_{2} \\right)} - 6.12323399573677 \\cdot 10^{-17} \\sin{\\left(\\theta_{1} \\right)} + 1.0 \\sin{\\left(\\theta_{2} \\right)} \\cos{\\left(\\theta_{1} \\right)} + 1.53080849893419 \\cdot 10^{-17} \\sin{\\left(- \\theta_{1} + \\theta_{2} + \\theta_{4} \\right)} + 1.53080849893419 \\cdot 10^{-17} \\sin{\\left(\\theta_{1} - \\theta_{2} + \\theta_{4} \\right)} - 1.53080849893419 \\cdot 10^{-17} \\sin{\\left(\\theta_{1} + \\theta_{2} - \\theta_{4} \\right)} + 1.53080849893419 \\cdot 10^{-17} \\sin{\\left(\\theta_{1} + \\theta_{2} + \\theta_{4} \\right)}\\right) \\sin{\\left(\\theta_{5} \\right)}\\right) \\sin{\\left(\\theta_{6} \\right)} - 1.0 \\left(- 6.12323399573677 \\cdot 10^{-17} \\cdot \\left(1.0 \\sin{\\left(\\theta_{1} \\right)} \\sin{\\left(\\theta_{4} \\right)} + 5.55111512312578 \\cdot 10^{-17} \\sin{\\left(\\theta_{2} \\right)} \\sin{\\left(\\theta_{4} \\right)} \\cos{\\left(\\theta_{1} \\right)} - 1.0 \\cos{\\left(\\theta_{1} \\right)} \\cos{\\left(\\theta_{2} \\right)} \\cos{\\left(\\theta_{4} \\right)}\\right) \\sin{\\left(\\theta_{5} \\right)} + 1.0 \\cdot \\left(3.74939945665464 \\cdot 10^{-33} \\sin{\\left(\\theta_{1} \\right)} \\cos{\\left(\\theta_{2} \\right)} + 1.0 \\sin{\\left(\\theta_{1} \\right)} + 6.12323399573677 \\cdot 10^{-17} \\sin{\\left(\\theta_{2} \\right)} \\cos{\\left(\\theta_{1} \\right)}\\right) \\cos{\\left(\\theta_{4} \\right)} + 6.12323399573677 \\cdot 10^{-17} \\cdot \\left(6.12323399573677 \\cdot 10^{-17} \\cdot \\left(3.74939945665464 \\cdot 10^{-33} \\sin{\\left(\\theta_{1} \\right)} \\cos{\\left(\\theta_{2} \\right)} + 1.0 \\sin{\\left(\\theta_{1} \\right)} + 6.12323399573677 \\cdot 10^{-17} \\sin{\\left(\\theta_{2} \\right)} \\cos{\\left(\\theta_{1} \\right)}\\right) \\cos{\\left(\\theta_{4} \\right)} + 6.12323399573677 \\cdot 10^{-17} \\sin{\\left(\\theta_{1} \\right)} \\cos{\\left(\\theta_{2} \\right)} - 6.12323399573677 \\cdot 10^{-17} \\sin{\\left(\\theta_{1} \\right)} + 1.0 \\sin{\\left(\\theta_{2} \\right)} \\cos{\\left(\\theta_{1} \\right)} + 1.53080849893419 \\cdot 10^{-17} \\sin{\\left(- \\theta_{1} + \\theta_{2} + \\theta_{4} \\right)} + 1.53080849893419 \\cdot 10^{-17} \\sin{\\left(\\theta_{1} - \\theta_{2} + \\theta_{4} \\right)} - 1.53080849893419 \\cdot 10^{-17} \\sin{\\left(\\theta_{1} + \\theta_{2} - \\theta_{4} \\right)} + 1.53080849893419 \\cdot 10^{-17} \\sin{\\left(\\theta_{1} + \\theta_{2} + \\theta_{4} \\right)}\\right) \\cos{\\left(\\theta_{5} \\right)} - 3.74939945665464 \\cdot 10^{-33} \\sin{\\left(\\theta_{1} \\right)} \\cos{\\left(\\theta_{2} \\right)} + 3.74939945665464 \\cdot 10^{-33} \\sin{\\left(\\theta_{1} \\right)} - 6.12323399573677 \\cdot 10^{-17} \\sin{\\left(\\theta_{2} \\right)} \\cos{\\left(\\theta_{1} \\right)} + 0.25 \\sin{\\left(- \\theta_{1} + \\theta_{2} + \\theta_{4} \\right)} + 0.25 \\sin{\\left(\\theta_{1} - \\theta_{2} + \\theta_{4} \\right)} - 0.25 \\sin{\\left(\\theta_{1} + \\theta_{2} - \\theta_{4} \\right)} + 0.25 \\sin{\\left(\\theta_{1} + \\theta_{2} + \\theta_{4} \\right)}\\right) \\cos{\\left(\\theta_{6} \\right)} & - 1.0 \\cdot \\left(1.0 \\sin{\\left(\\theta_{1} \\right)} \\sin{\\left(\\theta_{4} \\right)} + 5.55111512312578 \\cdot 10^{-17} \\sin{\\left(\\theta_{2} \\right)} \\sin{\\left(\\theta_{4} \\right)} \\cos{\\left(\\theta_{1} \\right)} - 1.0 \\cos{\\left(\\theta_{1} \\right)} \\cos{\\left(\\theta_{2} \\right)} \\cos{\\left(\\theta_{4} \\right)}\\right) \\sin{\\left(\\theta_{5} \\right)} - 6.12323399573677 \\cdot 10^{-17} \\cdot \\left(3.74939945665464 \\cdot 10^{-33} \\sin{\\left(\\theta_{1} \\right)} \\cos{\\left(\\theta_{2} \\right)} + 1.0 \\sin{\\left(\\theta_{1} \\right)} + 6.12323399573677 \\cdot 10^{-17} \\sin{\\left(\\theta_{2} \\right)} \\cos{\\left(\\theta_{1} \\right)}\\right) \\cos{\\left(\\theta_{4} \\right)} + 1.0 \\cdot \\left(6.12323399573677 \\cdot 10^{-17} \\cdot \\left(3.74939945665464 \\cdot 10^{-33} \\sin{\\left(\\theta_{1} \\right)} \\cos{\\left(\\theta_{2} \\right)} + 1.0 \\sin{\\left(\\theta_{1} \\right)} + 6.12323399573677 \\cdot 10^{-17} \\sin{\\left(\\theta_{2} \\right)} \\cos{\\left(\\theta_{1} \\right)}\\right) \\cos{\\left(\\theta_{4} \\right)} + 6.12323399573677 \\cdot 10^{-17} \\sin{\\left(\\theta_{1} \\right)} \\cos{\\left(\\theta_{2} \\right)} - 6.12323399573677 \\cdot 10^{-17} \\sin{\\left(\\theta_{1} \\right)} + 1.0 \\sin{\\left(\\theta_{2} \\right)} \\cos{\\left(\\theta_{1} \\right)} + 1.53080849893419 \\cdot 10^{-17} \\sin{\\left(- \\theta_{1} + \\theta_{2} + \\theta_{4} \\right)} + 1.53080849893419 \\cdot 10^{-17} \\sin{\\left(\\theta_{1} - \\theta_{2} + \\theta_{4} \\right)} - 1.53080849893419 \\cdot 10^{-17} \\sin{\\left(\\theta_{1} + \\theta_{2} - \\theta_{4} \\right)} + 1.53080849893419 \\cdot 10^{-17} \\sin{\\left(\\theta_{1} + \\theta_{2} + \\theta_{4} \\right)}\\right) \\cos{\\left(\\theta_{5} \\right)} + 2.29584502165847 \\cdot 10^{-49} \\sin{\\left(\\theta_{1} \\right)} \\cos{\\left(\\theta_{2} \\right)} - 2.29584502165847 \\cdot 10^{-49} \\sin{\\left(\\theta_{1} \\right)} + 3.74939945665464 \\cdot 10^{-33} \\sin{\\left(\\theta_{2} \\right)} \\cos{\\left(\\theta_{1} \\right)} - 1.53080849893419 \\cdot 10^{-17} \\sin{\\left(- \\theta_{1} + \\theta_{2} + \\theta_{4} \\right)} - 1.53080849893419 \\cdot 10^{-17} \\sin{\\left(\\theta_{1} - \\theta_{2} + \\theta_{4} \\right)} + 1.53080849893419 \\cdot 10^{-17} \\sin{\\left(\\theta_{1} + \\theta_{2} - \\theta_{4} \\right)} - 1.53080849893419 \\cdot 10^{-17} \\sin{\\left(\\theta_{1} + \\theta_{2} + \\theta_{4} \\right)} & d_{3} \\cdot \\left(6.12323399573677 \\cdot 10^{-17} \\sin{\\left(\\theta_{1} \\right)} \\cos{\\left(\\theta_{2} \\right)} - 6.12323399573677 \\cdot 10^{-17} \\sin{\\left(\\theta_{1} \\right)} + 1.0 \\sin{\\left(\\theta_{2} \\right)} \\cos{\\left(\\theta_{1} \\right)}\\right) - 0.154 \\sin{\\left(\\theta_{1} \\right)}\\\\\\left(\\left(- 5.55111512312578 \\cdot 10^{-17} \\sin{\\left(\\theta_{1} \\right)} \\sin{\\left(\\theta_{2} \\right)} \\sin{\\left(\\theta_{4} \\right)} + 1.0 \\sin{\\left(\\theta_{1} \\right)} \\cos{\\left(\\theta_{2} \\right)} \\cos{\\left(\\theta_{4} \\right)} + 1.0 \\sin{\\left(\\theta_{4} \\right)} \\cos{\\left(\\theta_{1} \\right)}\\right) \\cos{\\left(\\theta_{5} \\right)} - \\left(- 6.12323399573677 \\cdot 10^{-17} \\left(- 6.12323399573677 \\cdot 10^{-17} \\sin{\\left(\\theta_{1} \\right)} \\sin{\\left(\\theta_{2} \\right)} + 3.74939945665464 \\cdot 10^{-33} \\cos{\\left(\\theta_{1} \\right)} \\cos{\\left(\\theta_{2} \\right)} + 1.0 \\cos{\\left(\\theta_{1} \\right)}\\right) \\cos{\\left(\\theta_{4} \\right)} + 1.0 \\sin{\\left(\\theta_{1} \\right)} \\sin{\\left(\\theta_{2} \\right)} - 6.12323399573677 \\cdot 10^{-17} \\cos{\\left(\\theta_{1} \\right)} \\cos{\\left(\\theta_{2} \\right)} + 6.12323399573677 \\cdot 10^{-17} \\cos{\\left(\\theta_{1} \\right)} + 1.53080849893419 \\cdot 10^{-17} \\cos{\\left(- \\theta_{1} + \\theta_{2} + \\theta_{4} \\right)} - 1.53080849893419 \\cdot 10^{-17} \\cos{\\left(\\theta_{1} - \\theta_{2} + \\theta_{4} \\right)} + 1.53080849893419 \\cdot 10^{-17} \\cos{\\left(\\theta_{1} + \\theta_{2} - \\theta_{4} \\right)} - 1.53080849893419 \\cdot 10^{-17} \\cos{\\left(\\theta_{1} + \\theta_{2} + \\theta_{4} \\right)}\\right) \\sin{\\left(\\theta_{5} \\right)}\\right) \\cos{\\left(\\theta_{6} \\right)} - \\left(- 1.0 \\left(- 6.12323399573677 \\cdot 10^{-17} \\sin{\\left(\\theta_{1} \\right)} \\sin{\\left(\\theta_{2} \\right)} + 3.74939945665464 \\cdot 10^{-33} \\cos{\\left(\\theta_{1} \\right)} \\cos{\\left(\\theta_{2} \\right)} + 1.0 \\cos{\\left(\\theta_{1} \\right)}\\right) \\cos{\\left(\\theta_{4} \\right)} + 6.12323399573677 \\cdot 10^{-17} \\left(- 5.55111512312578 \\cdot 10^{-17} \\sin{\\left(\\theta_{1} \\right)} \\sin{\\left(\\theta_{2} \\right)} \\sin{\\left(\\theta_{4} \\right)} + 1.0 \\sin{\\left(\\theta_{1} \\right)} \\cos{\\left(\\theta_{2} \\right)} \\cos{\\left(\\theta_{4} \\right)} + 1.0 \\sin{\\left(\\theta_{4} \\right)} \\cos{\\left(\\theta_{1} \\right)}\\right) \\sin{\\left(\\theta_{5} \\right)} + 6.12323399573677 \\cdot 10^{-17} \\left(- 6.12323399573677 \\cdot 10^{-17} \\left(- 6.12323399573677 \\cdot 10^{-17} \\sin{\\left(\\theta_{1} \\right)} \\sin{\\left(\\theta_{2} \\right)} + 3.74939945665464 \\cdot 10^{-33} \\cos{\\left(\\theta_{1} \\right)} \\cos{\\left(\\theta_{2} \\right)} + 1.0 \\cos{\\left(\\theta_{1} \\right)}\\right) \\cos{\\left(\\theta_{4} \\right)} + 1.0 \\sin{\\left(\\theta_{1} \\right)} \\sin{\\left(\\theta_{2} \\right)} - 6.12323399573677 \\cdot 10^{-17} \\cos{\\left(\\theta_{1} \\right)} \\cos{\\left(\\theta_{2} \\right)} + 6.12323399573677 \\cdot 10^{-17} \\cos{\\left(\\theta_{1} \\right)} + 1.53080849893419 \\cdot 10^{-17} \\cos{\\left(- \\theta_{1} + \\theta_{2} + \\theta_{4} \\right)} - 1.53080849893419 \\cdot 10^{-17} \\cos{\\left(\\theta_{1} - \\theta_{2} + \\theta_{4} \\right)} + 1.53080849893419 \\cdot 10^{-17} \\cos{\\left(\\theta_{1} + \\theta_{2} - \\theta_{4} \\right)} - 1.53080849893419 \\cdot 10^{-17} \\cos{\\left(\\theta_{1} + \\theta_{2} + \\theta_{4} \\right)}\\right) \\cos{\\left(\\theta_{5} \\right)} - 6.12323399573677 \\cdot 10^{-17} \\sin{\\left(\\theta_{1} \\right)} \\sin{\\left(\\theta_{2} \\right)} + 3.74939945665464 \\cdot 10^{-33} \\cos{\\left(\\theta_{1} \\right)} \\cos{\\left(\\theta_{2} \\right)} - 3.74939945665464 \\cdot 10^{-33} \\cos{\\left(\\theta_{1} \\right)} + 0.25 \\cos{\\left(- \\theta_{1} + \\theta_{2} + \\theta_{4} \\right)} - 0.25 \\cos{\\left(\\theta_{1} - \\theta_{2} + \\theta_{4} \\right)} + 0.25 \\cos{\\left(\\theta_{1} + \\theta_{2} - \\theta_{4} \\right)} - 0.25 \\cos{\\left(\\theta_{1} + \\theta_{2} + \\theta_{4} \\right)}\\right) \\sin{\\left(\\theta_{6} \\right)} & - 1.0 \\left(\\left(- 5.55111512312578 \\cdot 10^{-17} \\sin{\\left(\\theta_{1} \\right)} \\sin{\\left(\\theta_{2} \\right)} \\sin{\\left(\\theta_{4} \\right)} + 1.0 \\sin{\\left(\\theta_{1} \\right)} \\cos{\\left(\\theta_{2} \\right)} \\cos{\\left(\\theta_{4} \\right)} + 1.0 \\sin{\\left(\\theta_{4} \\right)} \\cos{\\left(\\theta_{1} \\right)}\\right) \\cos{\\left(\\theta_{5} \\right)} + \\left(6.12323399573677 \\cdot 10^{-17} \\left(- 6.12323399573677 \\cdot 10^{-17} \\sin{\\left(\\theta_{1} \\right)} \\sin{\\left(\\theta_{2} \\right)} + 3.74939945665464 \\cdot 10^{-33} \\cos{\\left(\\theta_{1} \\right)} \\cos{\\left(\\theta_{2} \\right)} + 1.0 \\cos{\\left(\\theta_{1} \\right)}\\right) \\cos{\\left(\\theta_{4} \\right)} - 1.0 \\sin{\\left(\\theta_{1} \\right)} \\sin{\\left(\\theta_{2} \\right)} + 6.12323399573677 \\cdot 10^{-17} \\cos{\\left(\\theta_{1} \\right)} \\cos{\\left(\\theta_{2} \\right)} - 6.12323399573677 \\cdot 10^{-17} \\cos{\\left(\\theta_{1} \\right)} - 1.53080849893419 \\cdot 10^{-17} \\cos{\\left(- \\theta_{1} + \\theta_{2} + \\theta_{4} \\right)} + 1.53080849893419 \\cdot 10^{-17} \\cos{\\left(\\theta_{1} - \\theta_{2} + \\theta_{4} \\right)} - 1.53080849893419 \\cdot 10^{-17} \\cos{\\left(\\theta_{1} + \\theta_{2} - \\theta_{4} \\right)} + 1.53080849893419 \\cdot 10^{-17} \\cos{\\left(\\theta_{1} + \\theta_{2} + \\theta_{4} \\right)}\\right) \\sin{\\left(\\theta_{5} \\right)}\\right) \\sin{\\left(\\theta_{6} \\right)} + 1.0 \\cdot \\left(1.0 \\left(- 6.12323399573677 \\cdot 10^{-17} \\sin{\\left(\\theta_{1} \\right)} \\sin{\\left(\\theta_{2} \\right)} + 3.74939945665464 \\cdot 10^{-33} \\cos{\\left(\\theta_{1} \\right)} \\cos{\\left(\\theta_{2} \\right)} + 1.0 \\cos{\\left(\\theta_{1} \\right)}\\right) \\cos{\\left(\\theta_{4} \\right)} - 6.12323399573677 \\cdot 10^{-17} \\left(- 5.55111512312578 \\cdot 10^{-17} \\sin{\\left(\\theta_{1} \\right)} \\sin{\\left(\\theta_{2} \\right)} \\sin{\\left(\\theta_{4} \\right)} + 1.0 \\sin{\\left(\\theta_{1} \\right)} \\cos{\\left(\\theta_{2} \\right)} \\cos{\\left(\\theta_{4} \\right)} + 1.0 \\sin{\\left(\\theta_{4} \\right)} \\cos{\\left(\\theta_{1} \\right)}\\right) \\sin{\\left(\\theta_{5} \\right)} + 6.12323399573677 \\cdot 10^{-17} \\cdot \\left(6.12323399573677 \\cdot 10^{-17} \\left(- 6.12323399573677 \\cdot 10^{-17} \\sin{\\left(\\theta_{1} \\right)} \\sin{\\left(\\theta_{2} \\right)} + 3.74939945665464 \\cdot 10^{-33} \\cos{\\left(\\theta_{1} \\right)} \\cos{\\left(\\theta_{2} \\right)} + 1.0 \\cos{\\left(\\theta_{1} \\right)}\\right) \\cos{\\left(\\theta_{4} \\right)} - 1.0 \\sin{\\left(\\theta_{1} \\right)} \\sin{\\left(\\theta_{2} \\right)} + 6.12323399573677 \\cdot 10^{-17} \\cos{\\left(\\theta_{1} \\right)} \\cos{\\left(\\theta_{2} \\right)} - 6.12323399573677 \\cdot 10^{-17} \\cos{\\left(\\theta_{1} \\right)} - 1.53080849893419 \\cdot 10^{-17} \\cos{\\left(- \\theta_{1} + \\theta_{2} + \\theta_{4} \\right)} + 1.53080849893419 \\cdot 10^{-17} \\cos{\\left(\\theta_{1} - \\theta_{2} + \\theta_{4} \\right)} - 1.53080849893419 \\cdot 10^{-17} \\cos{\\left(\\theta_{1} + \\theta_{2} - \\theta_{4} \\right)} + 1.53080849893419 \\cdot 10^{-17} \\cos{\\left(\\theta_{1} + \\theta_{2} + \\theta_{4} \\right)}\\right) \\cos{\\left(\\theta_{5} \\right)} + 6.12323399573677 \\cdot 10^{-17} \\sin{\\left(\\theta_{1} \\right)} \\sin{\\left(\\theta_{2} \\right)} - 3.74939945665464 \\cdot 10^{-33} \\cos{\\left(\\theta_{1} \\right)} \\cos{\\left(\\theta_{2} \\right)} + 3.74939945665464 \\cdot 10^{-33} \\cos{\\left(\\theta_{1} \\right)} - 0.25 \\cos{\\left(- \\theta_{1} + \\theta_{2} + \\theta_{4} \\right)} + 0.25 \\cos{\\left(\\theta_{1} - \\theta_{2} + \\theta_{4} \\right)} - 0.25 \\cos{\\left(\\theta_{1} + \\theta_{2} - \\theta_{4} \\right)} + 0.25 \\cos{\\left(\\theta_{1} + \\theta_{2} + \\theta_{4} \\right)}\\right) \\cos{\\left(\\theta_{6} \\right)} & 6.12323399573677 \\cdot 10^{-17} \\left(- 6.12323399573677 \\cdot 10^{-17} \\sin{\\left(\\theta_{1} \\right)} \\sin{\\left(\\theta_{2} \\right)} + 3.74939945665464 \\cdot 10^{-33} \\cos{\\left(\\theta_{1} \\right)} \\cos{\\left(\\theta_{2} \\right)} + 1.0 \\cos{\\left(\\theta_{1} \\right)}\\right) \\cos{\\left(\\theta_{4} \\right)} + 1.0 \\left(- 5.55111512312578 \\cdot 10^{-17} \\sin{\\left(\\theta_{1} \\right)} \\sin{\\left(\\theta_{2} \\right)} \\sin{\\left(\\theta_{4} \\right)} + 1.0 \\sin{\\left(\\theta_{1} \\right)} \\cos{\\left(\\theta_{2} \\right)} \\cos{\\left(\\theta_{4} \\right)} + 1.0 \\sin{\\left(\\theta_{4} \\right)} \\cos{\\left(\\theta_{1} \\right)}\\right) \\sin{\\left(\\theta_{5} \\right)} + 1.0 \\left(- 6.12323399573677 \\cdot 10^{-17} \\left(- 6.12323399573677 \\cdot 10^{-17} \\sin{\\left(\\theta_{1} \\right)} \\sin{\\left(\\theta_{2} \\right)} + 3.74939945665464 \\cdot 10^{-33} \\cos{\\left(\\theta_{1} \\right)} \\cos{\\left(\\theta_{2} \\right)} + 1.0 \\cos{\\left(\\theta_{1} \\right)}\\right) \\cos{\\left(\\theta_{4} \\right)} + 1.0 \\sin{\\left(\\theta_{1} \\right)} \\sin{\\left(\\theta_{2} \\right)} - 6.12323399573677 \\cdot 10^{-17} \\cos{\\left(\\theta_{1} \\right)} \\cos{\\left(\\theta_{2} \\right)} + 6.12323399573677 \\cdot 10^{-17} \\cos{\\left(\\theta_{1} \\right)} + 1.53080849893419 \\cdot 10^{-17} \\cos{\\left(- \\theta_{1} + \\theta_{2} + \\theta_{4} \\right)} - 1.53080849893419 \\cdot 10^{-17} \\cos{\\left(\\theta_{1} - \\theta_{2} + \\theta_{4} \\right)} + 1.53080849893419 \\cdot 10^{-17} \\cos{\\left(\\theta_{1} + \\theta_{2} - \\theta_{4} \\right)} - 1.53080849893419 \\cdot 10^{-17} \\cos{\\left(\\theta_{1} + \\theta_{2} + \\theta_{4} \\right)}\\right) \\cos{\\left(\\theta_{5} \\right)} + 3.74939945665464 \\cdot 10^{-33} \\sin{\\left(\\theta_{1} \\right)} \\sin{\\left(\\theta_{2} \\right)} - 2.29584502165847 \\cdot 10^{-49} \\cos{\\left(\\theta_{1} \\right)} \\cos{\\left(\\theta_{2} \\right)} + 2.29584502165847 \\cdot 10^{-49} \\cos{\\left(\\theta_{1} \\right)} - 1.53080849893419 \\cdot 10^{-17} \\cos{\\left(- \\theta_{1} + \\theta_{2} + \\theta_{4} \\right)} + 1.53080849893419 \\cdot 10^{-17} \\cos{\\left(\\theta_{1} - \\theta_{2} + \\theta_{4} \\right)} - 1.53080849893419 \\cdot 10^{-17} \\cos{\\left(\\theta_{1} + \\theta_{2} - \\theta_{4} \\right)} + 1.53080849893419 \\cdot 10^{-17} \\cos{\\left(\\theta_{1} + \\theta_{2} + \\theta_{4} \\right)} & d_{3} \\cdot \\left(1.0 \\sin{\\left(\\theta_{1} \\right)} \\sin{\\left(\\theta_{2} \\right)} - 6.12323399573677 \\cdot 10^{-17} \\cos{\\left(\\theta_{1} \\right)} \\cos{\\left(\\theta_{2} \\right)} + 6.12323399573677 \\cdot 10^{-17} \\cos{\\left(\\theta_{1} \\right)}\\right) + 0.154 \\cos{\\left(\\theta_{1} \\right)}\\\\- \\left(\\left(6.12323399573677 \\cdot 10^{-17} \\left(\\cos{\\left(\\theta_{2} \\right)} - 1\\right) \\sin{\\left(\\theta_{4} \\right)} + 1.0 \\sin{\\left(\\theta_{2} \\right)} \\cos{\\left(\\theta_{4} \\right)}\\right) \\cos{\\left(\\theta_{5} \\right)} + \\left(3.74939945665464 \\cdot 10^{-33} \\left(\\cos{\\left(\\theta_{2} \\right)} - 1\\right) \\cos{\\left(\\theta_{4} \\right)} - 6.12323399573677 \\cdot 10^{-17} \\sin{\\left(\\theta_{2} \\right)} \\sin{\\left(\\theta_{4} \\right)} + 1.0 \\cos{\\left(\\theta_{2} \\right)} + 3.74939945665464 \\cdot 10^{-33}\\right) \\sin{\\left(\\theta_{5} \\right)}\\right) \\cos{\\left(\\theta_{6} \\right)} + \\left(6.12323399573677 \\cdot 10^{-17} \\cdot \\left(6.12323399573677 \\cdot 10^{-17} \\left(\\cos{\\left(\\theta_{2} \\right)} - 1\\right) \\sin{\\left(\\theta_{4} \\right)} + 1.0 \\sin{\\left(\\theta_{2} \\right)} \\cos{\\left(\\theta_{4} \\right)}\\right) \\sin{\\left(\\theta_{5} \\right)} - 6.12323399573677 \\cdot 10^{-17} \\left(\\cos{\\left(\\theta_{2} \\right)} - 1\\right) \\cos{\\left(\\theta_{4} \\right)} - 6.12323399573677 \\cdot 10^{-17} \\cdot \\left(3.74939945665464 \\cdot 10^{-33} \\left(\\cos{\\left(\\theta_{2} \\right)} - 1\\right) \\cos{\\left(\\theta_{4} \\right)} - 6.12323399573677 \\cdot 10^{-17} \\sin{\\left(\\theta_{2} \\right)} \\sin{\\left(\\theta_{4} \\right)} + 1.0 \\cos{\\left(\\theta_{2} \\right)} + 3.74939945665464 \\cdot 10^{-33}\\right) \\cos{\\left(\\theta_{5} \\right)} + 1.0 \\sin{\\left(\\theta_{2} \\right)} \\sin{\\left(\\theta_{4} \\right)} + 6.12323399573677 \\cdot 10^{-17} \\cos{\\left(\\theta_{2} \\right)} + 2.29584502165847 \\cdot 10^{-49}\\right) \\sin{\\left(\\theta_{6} \\right)} & 1.0 \\left(\\left(6.12323399573677 \\cdot 10^{-17} \\left(\\cos{\\left(\\theta_{2} \\right)} - 1\\right) \\sin{\\left(\\theta_{4} \\right)} + 1.0 \\sin{\\left(\\theta_{2} \\right)} \\cos{\\left(\\theta_{4} \\right)}\\right) \\cos{\\left(\\theta_{5} \\right)} + \\left(3.74939945665464 \\cdot 10^{-33} \\left(\\cos{\\left(\\theta_{2} \\right)} - 1\\right) \\cos{\\left(\\theta_{4} \\right)} - 6.12323399573677 \\cdot 10^{-17} \\sin{\\left(\\theta_{2} \\right)} \\sin{\\left(\\theta_{4} \\right)} + 1.0 \\cos{\\left(\\theta_{2} \\right)} + 3.74939945665464 \\cdot 10^{-33}\\right) \\sin{\\left(\\theta_{5} \\right)}\\right) \\sin{\\left(\\theta_{6} \\right)} + 1.0 \\cdot \\left(6.12323399573677 \\cdot 10^{-17} \\cdot \\left(6.12323399573677 \\cdot 10^{-17} \\left(\\cos{\\left(\\theta_{2} \\right)} - 1\\right) \\sin{\\left(\\theta_{4} \\right)} + 1.0 \\sin{\\left(\\theta_{2} \\right)} \\cos{\\left(\\theta_{4} \\right)}\\right) \\sin{\\left(\\theta_{5} \\right)} - 6.12323399573677 \\cdot 10^{-17} \\left(\\cos{\\left(\\theta_{2} \\right)} - 1\\right) \\cos{\\left(\\theta_{4} \\right)} - 6.12323399573677 \\cdot 10^{-17} \\cdot \\left(3.74939945665464 \\cdot 10^{-33} \\left(\\cos{\\left(\\theta_{2} \\right)} - 1\\right) \\cos{\\left(\\theta_{4} \\right)} - 6.12323399573677 \\cdot 10^{-17} \\sin{\\left(\\theta_{2} \\right)} \\sin{\\left(\\theta_{4} \\right)} + 1.0 \\cos{\\left(\\theta_{2} \\right)} + 3.74939945665464 \\cdot 10^{-33}\\right) \\cos{\\left(\\theta_{5} \\right)} + 1.0 \\sin{\\left(\\theta_{2} \\right)} \\sin{\\left(\\theta_{4} \\right)} + 6.12323399573677 \\cdot 10^{-17} \\cos{\\left(\\theta_{2} \\right)} + 2.29584502165847 \\cdot 10^{-49}\\right) \\cos{\\left(\\theta_{6} \\right)} & - 1.0 \\cdot \\left(6.12323399573677 \\cdot 10^{-17} \\left(\\cos{\\left(\\theta_{2} \\right)} - 1\\right) \\sin{\\left(\\theta_{4} \\right)} + 1.0 \\sin{\\left(\\theta_{2} \\right)} \\cos{\\left(\\theta_{4} \\right)}\\right) \\sin{\\left(\\theta_{5} \\right)} - 3.74939945665464 \\cdot 10^{-33} \\left(\\cos{\\left(\\theta_{2} \\right)} - 1\\right) \\cos{\\left(\\theta_{4} \\right)} + 1.0 \\cdot \\left(3.74939945665464 \\cdot 10^{-33} \\left(\\cos{\\left(\\theta_{2} \\right)} - 1\\right) \\cos{\\left(\\theta_{4} \\right)} - 6.12323399573677 \\cdot 10^{-17} \\sin{\\left(\\theta_{2} \\right)} \\sin{\\left(\\theta_{4} \\right)} + 1.0 \\cos{\\left(\\theta_{2} \\right)} + 3.74939945665464 \\cdot 10^{-33}\\right) \\cos{\\left(\\theta_{5} \\right)} + 6.12323399573677 \\cdot 10^{-17} \\sin{\\left(\\theta_{2} \\right)} \\sin{\\left(\\theta_{4} \\right)} + 3.74939945665464 \\cdot 10^{-33} \\cos{\\left(\\theta_{2} \\right)} + 1.40579962855621 \\cdot 10^{-65} & d_{3} \\cdot \\left(1.0 \\cos{\\left(\\theta_{2} \\right)} + 3.74939945665464 \\cdot 10^{-33}\\right) + 0.412\\\\0 & 0 & 0 & 1\\end{matrix}\\right]$"
      ],
      "text/plain": [
       "[[-((1.0*sin(theta_1)*sin(theta_4) + 5.55111512312578e-17*sin(theta_2)*sin(theta_4)*cos(theta_1) - 1.0*cos(theta_1)*cos(theta_2)*cos(theta_4))*cos(theta_5) + (6.12323399573677e-17*(3.74939945665464e-33*sin(theta_1)*cos(theta_2) + 1.0*sin(theta_1) + 6.12323399573677e-17*sin(theta_2)*cos(theta_1))*cos(theta_4) + 6.12323399573677e-17*sin(theta_1)*cos(theta_2) - 6.12323399573677e-17*sin(theta_1) + 1.0*sin(theta_2)*cos(theta_1) + 1.53080849893419e-17*sin(-theta_1 + theta_2 + theta_4) + 1.53080849893419e-17*sin(theta_1 - theta_2 + theta_4) - 1.53080849893419e-17*sin(theta_1 + theta_2 - theta_4) + 1.53080849893419e-17*sin(theta_1 + theta_2 + theta_4))*sin(theta_5))*cos(theta_6) - (-6.12323399573677e-17*(1.0*sin(theta_1)*sin(theta_4) + 5.55111512312578e-17*sin(theta_2)*sin(theta_4)*cos(theta_1) - 1.0*cos(theta_1)*cos(theta_2)*cos(theta_4))*sin(theta_5) + 1.0*(3.74939945665464e-33*sin(theta_1)*cos(theta_2) + 1.0*sin(theta_1) + 6.12323399573677e-17*sin(theta_2)*cos(theta_1))*cos(theta_4) + 6.12323399573677e-17*(6.12323399573677e-17*(3.74939945665464e-33*sin(theta_1)*cos(theta_2) + 1.0*sin(theta_1) + 6.12323399573677e-17*sin(theta_2)*cos(theta_1))*cos(theta_4) + 6.12323399573677e-17*sin(theta_1)*cos(theta_2) - 6.12323399573677e-17*sin(theta_1) + 1.0*sin(theta_2)*cos(theta_1) + 1.53080849893419e-17*sin(-theta_1 + theta_2 + theta_4) + 1.53080849893419e-17*sin(theta_1 - theta_2 + theta_4) - 1.53080849893419e-17*sin(theta_1 + theta_2 - theta_4) + 1.53080849893419e-17*sin(theta_1 + theta_2 + theta_4))*cos(theta_5) - 3.74939945665464e-33*sin(theta_1)*cos(theta_2) + 3.74939945665464e-33*sin(theta_1) - 6.12323399573677e-17*sin(theta_2)*cos(theta_1) + 0.25*sin(-theta_1 + theta_2 + theta_4) + 0.25*sin(theta_1 - theta_2 + theta_4) - 0.25*sin(theta_1 + theta_2 - theta_4) + 0.25*sin(theta_1 + theta_2 + theta_4))*sin(theta_6), 1.0*((1.0*sin(theta_1)*sin(theta_4) + 5.55111512312578e-17*sin(theta_2)*sin(theta_4)*cos(theta_1) - 1.0*cos(theta_1)*cos(theta_2)*cos(theta_4))*cos(theta_5) + (6.12323399573677e-17*(3.74939945665464e-33*sin(theta_1)*cos(theta_2) + 1.0*sin(theta_1) + 6.12323399573677e-17*sin(theta_2)*cos(theta_1))*cos(theta_4) + 6.12323399573677e-17*sin(theta_1)*cos(theta_2) - 6.12323399573677e-17*sin(theta_1) + 1.0*sin(theta_2)*cos(theta_1) + 1.53080849893419e-17*sin(-theta_1 + theta_2 + theta_4) + 1.53080849893419e-17*sin(theta_1 - theta_2 + theta_4) - 1.53080849893419e-17*sin(theta_1 + theta_2 - theta_4) + 1.53080849893419e-17*sin(theta_1 + theta_2 + theta_4))*sin(theta_5))*sin(theta_6) - 1.0*(-6.12323399573677e-17*(1.0*sin(theta_1)*sin(theta_4) + 5.55111512312578e-17*sin(theta_2)*sin(theta_4)*cos(theta_1) - 1.0*cos(theta_1)*cos(theta_2)*cos(theta_4))*sin(theta_5) + 1.0*(3.74939945665464e-33*sin(theta_1)*cos(theta_2) + 1.0*sin(theta_1) + 6.12323399573677e-17*sin(theta_2)*cos(theta_1))*cos(theta_4) + 6.12323399573677e-17*(6.12323399573677e-17*(3.74939945665464e-33*sin(theta_1)*cos(theta_2) + 1.0*sin(theta_1) + 6.12323399573677e-17*sin(theta_2)*cos(theta_1))*cos(theta_4) + 6.12323399573677e-17*sin(theta_1)*cos(theta_2) - 6.12323399573677e-17*sin(theta_1) + 1.0*sin(theta_2)*cos(theta_1) + 1.53080849893419e-17*sin(-theta_1 + theta_2 + theta_4) + 1.53080849893419e-17*sin(theta_1 - theta_2 + theta_4) - 1.53080849893419e-17*sin(theta_1 + theta_2 - theta_4) + 1.53080849893419e-17*sin(theta_1 + theta_2 + theta_4))*cos(theta_5) - 3.74939945665464e-33*sin(theta_1)*cos(theta_2) + 3.74939945665464e-33*sin(theta_1) - 6.12323399573677e-17*sin(theta_2)*cos(theta_1) + 0.25*sin(-theta_1 + theta_2 + theta_4) + 0.25*sin(theta_1 - theta_2 + theta_4) - 0.25*sin(theta_1 + theta_2 - theta_4) + 0.25*sin(theta_1 + theta_2 + theta_4))*cos(theta_6), -1.0*(1.0*sin(theta_1)*sin(theta_4) + 5.55111512312578e-17*sin(theta_2)*sin(theta_4)*cos(theta_1) - 1.0*cos(theta_1)*cos(theta_2)*cos(theta_4))*sin(theta_5) - 6.12323399573677e-17*(3.74939945665464e-33*sin(theta_1)*cos(theta_2) + 1.0*sin(theta_1) + 6.12323399573677e-17*sin(theta_2)*cos(theta_1))*cos(theta_4) + 1.0*(6.12323399573677e-17*(3.74939945665464e-33*sin(theta_1)*cos(theta_2) + 1.0*sin(theta_1) + 6.12323399573677e-17*sin(theta_2)*cos(theta_1))*cos(theta_4) + 6.12323399573677e-17*sin(theta_1)*cos(theta_2) - 6.12323399573677e-17*sin(theta_1) + 1.0*sin(theta_2)*cos(theta_1) + 1.53080849893419e-17*sin(-theta_1 + theta_2 + theta_4) + 1.53080849893419e-17*sin(theta_1 - theta_2 + theta_4) - 1.53080849893419e-17*sin(theta_1 + theta_2 - theta_4) + 1.53080849893419e-17*sin(theta_1 + theta_2 + theta_4))*cos(theta_5) + 2.29584502165847e-49*sin(theta_1)*cos(theta_2) - 2.29584502165847e-49*sin(theta_1) + 3.74939945665464e-33*sin(theta_2)*cos(theta_1) - 1.53080849893419e-17*sin(-theta_1 + theta_2 + theta_4) - 1.53080849893419e-17*sin(theta_1 - theta_2 + theta_4) + 1.53080849893419e-17*sin(theta_1 + theta_2 - theta_4) - 1.53080849893419e-17*sin(theta_1 + theta_2 + theta_4), d_3*(6.12323399573677e-17*sin(theta_1)*cos(theta_2) - 6.12323399573677e-17*sin(theta_1) + 1.0*sin(theta_2)*cos(theta_1)) - 0.154*sin(theta_1)], [((-5.55111512312578e-17*sin(theta_1)*sin(theta_2)*sin(theta_4) + 1.0*sin(theta_1)*cos(theta_2)*cos(theta_4) + 1.0*sin(theta_4)*cos(theta_1))*cos(theta_5) - (-6.12323399573677e-17*(-6.12323399573677e-17*sin(theta_1)*sin(theta_2) + 3.74939945665464e-33*cos(theta_1)*cos(theta_2) + 1.0*cos(theta_1))*cos(theta_4) + 1.0*sin(theta_1)*sin(theta_2) - 6.12323399573677e-17*cos(theta_1)*cos(theta_2) + 6.12323399573677e-17*cos(theta_1) + 1.53080849893419e-17*cos(-theta_1 + theta_2 + theta_4) - 1.53080849893419e-17*cos(theta_1 - theta_2 + theta_4) + 1.53080849893419e-17*cos(theta_1 + theta_2 - theta_4) - 1.53080849893419e-17*cos(theta_1 + theta_2 + theta_4))*sin(theta_5))*cos(theta_6) - (-1.0*(-6.12323399573677e-17*sin(theta_1)*sin(theta_2) + 3.74939945665464e-33*cos(theta_1)*cos(theta_2) + 1.0*cos(theta_1))*cos(theta_4) + 6.12323399573677e-17*(-5.55111512312578e-17*sin(theta_1)*sin(theta_2)*sin(theta_4) + 1.0*sin(theta_1)*cos(theta_2)*cos(theta_4) + 1.0*sin(theta_4)*cos(theta_1))*sin(theta_5) + 6.12323399573677e-17*(-6.12323399573677e-17*(-6.12323399573677e-17*sin(theta_1)*sin(theta_2) + 3.74939945665464e-33*cos(theta_1)*cos(theta_2) + 1.0*cos(theta_1))*cos(theta_4) + 1.0*sin(theta_1)*sin(theta_2) - 6.12323399573677e-17*cos(theta_1)*cos(theta_2) + 6.12323399573677e-17*cos(theta_1) + 1.53080849893419e-17*cos(-theta_1 + theta_2 + theta_4) - 1.53080849893419e-17*cos(theta_1 - theta_2 + theta_4) + 1.53080849893419e-17*cos(theta_1 + theta_2 - theta_4) - 1.53080849893419e-17*cos(theta_1 + theta_2 + theta_4))*cos(theta_5) - 6.12323399573677e-17*sin(theta_1)*sin(theta_2) + 3.74939945665464e-33*cos(theta_1)*cos(theta_2) - 3.74939945665464e-33*cos(theta_1) + 0.25*cos(-theta_1 + theta_2 + theta_4) - 0.25*cos(theta_1 - theta_2 + theta_4) + 0.25*cos(theta_1 + theta_2 - theta_4) - 0.25*cos(theta_1 + theta_2 + theta_4))*sin(theta_6), -1.0*((-5.55111512312578e-17*sin(theta_1)*sin(theta_2)*sin(theta_4) + 1.0*sin(theta_1)*cos(theta_2)*cos(theta_4) + 1.0*sin(theta_4)*cos(theta_1))*cos(theta_5) + (6.12323399573677e-17*(-6.12323399573677e-17*sin(theta_1)*sin(theta_2) + 3.74939945665464e-33*cos(theta_1)*cos(theta_2) + 1.0*cos(theta_1))*cos(theta_4) - 1.0*sin(theta_1)*sin(theta_2) + 6.12323399573677e-17*cos(theta_1)*cos(theta_2) - 6.12323399573677e-17*cos(theta_1) - 1.53080849893419e-17*cos(-theta_1 + theta_2 + theta_4) + 1.53080849893419e-17*cos(theta_1 - theta_2 + theta_4) - 1.53080849893419e-17*cos(theta_1 + theta_2 - theta_4) + 1.53080849893419e-17*cos(theta_1 + theta_2 + theta_4))*sin(theta_5))*sin(theta_6) + 1.0*(1.0*(-6.12323399573677e-17*sin(theta_1)*sin(theta_2) + 3.74939945665464e-33*cos(theta_1)*cos(theta_2) + 1.0*cos(theta_1))*cos(theta_4) - 6.12323399573677e-17*(-5.55111512312578e-17*sin(theta_1)*sin(theta_2)*sin(theta_4) + 1.0*sin(theta_1)*cos(theta_2)*cos(theta_4) + 1.0*sin(theta_4)*cos(theta_1))*sin(theta_5) + 6.12323399573677e-17*(6.12323399573677e-17*(-6.12323399573677e-17*sin(theta_1)*sin(theta_2) + 3.74939945665464e-33*cos(theta_1)*cos(theta_2) + 1.0*cos(theta_1))*cos(theta_4) - 1.0*sin(theta_1)*sin(theta_2) + 6.12323399573677e-17*cos(theta_1)*cos(theta_2) - 6.12323399573677e-17*cos(theta_1) - 1.53080849893419e-17*cos(-theta_1 + theta_2 + theta_4) + 1.53080849893419e-17*cos(theta_1 - theta_2 + theta_4) - 1.53080849893419e-17*cos(theta_1 + theta_2 - theta_4) + 1.53080849893419e-17*cos(theta_1 + theta_2 + theta_4))*cos(theta_5) + 6.12323399573677e-17*sin(theta_1)*sin(theta_2) - 3.74939945665464e-33*cos(theta_1)*cos(theta_2) + 3.74939945665464e-33*cos(theta_1) - 0.25*cos(-theta_1 + theta_2 + theta_4) + 0.25*cos(theta_1 - theta_2 + theta_4) - 0.25*cos(theta_1 + theta_2 - theta_4) + 0.25*cos(theta_1 + theta_2 + theta_4))*cos(theta_6), 6.12323399573677e-17*(-6.12323399573677e-17*sin(theta_1)*sin(theta_2) + 3.74939945665464e-33*cos(theta_1)*cos(theta_2) + 1.0*cos(theta_1))*cos(theta_4) + 1.0*(-5.55111512312578e-17*sin(theta_1)*sin(theta_2)*sin(theta_4) + 1.0*sin(theta_1)*cos(theta_2)*cos(theta_4) + 1.0*sin(theta_4)*cos(theta_1))*sin(theta_5) + 1.0*(-6.12323399573677e-17*(-6.12323399573677e-17*sin(theta_1)*sin(theta_2) + 3.74939945665464e-33*cos(theta_1)*cos(theta_2) + 1.0*cos(theta_1))*cos(theta_4) + 1.0*sin(theta_1)*sin(theta_2) - 6.12323399573677e-17*cos(theta_1)*cos(theta_2) + 6.12323399573677e-17*cos(theta_1) + 1.53080849893419e-17*cos(-theta_1 + theta_2 + theta_4) - 1.53080849893419e-17*cos(theta_1 - theta_2 + theta_4) + 1.53080849893419e-17*cos(theta_1 + theta_2 - theta_4) - 1.53080849893419e-17*cos(theta_1 + theta_2 + theta_4))*cos(theta_5) + 3.74939945665464e-33*sin(theta_1)*sin(theta_2) - 2.29584502165847e-49*cos(theta_1)*cos(theta_2) + 2.29584502165847e-49*cos(theta_1) - 1.53080849893419e-17*cos(-theta_1 + theta_2 + theta_4) + 1.53080849893419e-17*cos(theta_1 - theta_2 + theta_4) - 1.53080849893419e-17*cos(theta_1 + theta_2 - theta_4) + 1.53080849893419e-17*cos(theta_1 + theta_2 + theta_4), d_3*(1.0*sin(theta_1)*sin(theta_2) - 6.12323399573677e-17*cos(theta_1)*cos(theta_2) + 6.12323399573677e-17*cos(theta_1)) + 0.154*cos(theta_1)], [-((6.12323399573677e-17*(cos(theta_2) - 1)*sin(theta_4) + 1.0*sin(theta_2)*cos(theta_4))*cos(theta_5) + (3.74939945665464e-33*(cos(theta_2) - 1)*cos(theta_4) - 6.12323399573677e-17*sin(theta_2)*sin(theta_4) + 1.0*cos(theta_2) + 3.74939945665464e-33)*sin(theta_5))*cos(theta_6) + (6.12323399573677e-17*(6.12323399573677e-17*(cos(theta_2) - 1)*sin(theta_4) + 1.0*sin(theta_2)*cos(theta_4))*sin(theta_5) - 6.12323399573677e-17*(cos(theta_2) - 1)*cos(theta_4) - 6.12323399573677e-17*(3.74939945665464e-33*(cos(theta_2) - 1)*cos(theta_4) - 6.12323399573677e-17*sin(theta_2)*sin(theta_4) + 1.0*cos(theta_2) + 3.74939945665464e-33)*cos(theta_5) + 1.0*sin(theta_2)*sin(theta_4) + 6.12323399573677e-17*cos(theta_2) + 2.29584502165847e-49)*sin(theta_6), 1.0*((6.12323399573677e-17*(cos(theta_2) - 1)*sin(theta_4) + 1.0*sin(theta_2)*cos(theta_4))*cos(theta_5) + (3.74939945665464e-33*(cos(theta_2) - 1)*cos(theta_4) - 6.12323399573677e-17*sin(theta_2)*sin(theta_4) + 1.0*cos(theta_2) + 3.74939945665464e-33)*sin(theta_5))*sin(theta_6) + 1.0*(6.12323399573677e-17*(6.12323399573677e-17*(cos(theta_2) - 1)*sin(theta_4) + 1.0*sin(theta_2)*cos(theta_4))*sin(theta_5) - 6.12323399573677e-17*(cos(theta_2) - 1)*cos(theta_4) - 6.12323399573677e-17*(3.74939945665464e-33*(cos(theta_2) - 1)*cos(theta_4) - 6.12323399573677e-17*sin(theta_2)*sin(theta_4) + 1.0*cos(theta_2) + 3.74939945665464e-33)*cos(theta_5) + 1.0*sin(theta_2)*sin(theta_4) + 6.12323399573677e-17*cos(theta_2) + 2.29584502165847e-49)*cos(theta_6), -1.0*(6.12323399573677e-17*(cos(theta_2) - 1)*sin(theta_4) + 1.0*sin(theta_2)*cos(theta_4))*sin(theta_5) - 3.74939945665464e-33*(cos(theta_2) - 1)*cos(theta_4) + 1.0*(3.74939945665464e-33*(cos(theta_2) - 1)*cos(theta_4) - 6.12323399573677e-17*sin(theta_2)*sin(theta_4) + 1.0*cos(theta_2) + 3.74939945665464e-33)*cos(theta_5) + 6.12323399573677e-17*sin(theta_2)*sin(theta_4) + 3.74939945665464e-33*cos(theta_2) + 1.40579962855621e-65, d_3*(1.0*cos(theta_2) + 3.74939945665464e-33) + 0.412], [0, 0, 0, 1]]"
      ]
     },
     "execution_count": 8,
     "metadata": {},
     "output_type": "execute_result"
    }
   ],
   "source": [
    "T = stanford_g2_robot.fkine([theta_1, theta_2, d_3, theta_4, theta_5, theta_6])\n",
    "T_simp = sym.simplify(T.A)\n",
    "T_simp"
   ]
  },
  {
   "cell_type": "code",
   "execution_count": 9,
   "metadata": {},
   "outputs": [],
   "source": [
    "desired_pose = SE3(0.7, 0.2, 0.1) * SE3.OA([0, 1, 0], [0, 0, -1])"
   ]
  },
  {
   "cell_type": "code",
   "execution_count": 10,
   "metadata": {},
   "outputs": [
    {
     "name": "stdout",
     "output_type": "stream",
     "text": [
      "Joint coordinates:  [-2.65014768 -1.98403559  0.77693485 -3.1415924   1.15755691  0.49144481]\n"
     ]
    }
   ],
   "source": [
    "sol = stanford_g2_robot.ikine(desired_pose)\n",
    "print(\"Joint coordinates: \", sol.q)"
   ]
  },
  {
   "cell_type": "code",
   "execution_count": 11,
   "metadata": {},
   "outputs": [
    {
     "name": "stdout",
     "output_type": "stream",
     "text": [
      "  -1        -6.197e-08  3.66e-08  0.7       \n",
      "  -6.197e-08  1         2.779e-07  0.2       \n",
      "  -3.66e-08  2.779e-07 -1         0.1       \n",
      "   0         0         0         1         \n",
      "\n",
      "Residual:  4.674594933520768e-07\n"
     ]
    }
   ],
   "source": [
    "# Verify the solution by computing the FK of the obtained joint coordinates\n",
    "computed_pose = stanford_g2_robot.fkine(sol.q)\n",
    "print(computed_pose)\n",
    "print(\"Residual: \", np.linalg.norm(desired_pose.A - computed_pose.A))"
   ]
  }
 ],
 "metadata": {
  "kernelspec": {
   "display_name": "Python 3 (ipykernel)",
   "language": "python",
   "name": "python3"
  },
  "language_info": {
   "codemirror_mode": {
    "name": "ipython",
    "version": 3
   },
   "file_extension": ".py",
   "mimetype": "text/x-python",
   "name": "python",
   "nbconvert_exporter": "python",
   "pygments_lexer": "ipython3",
   "version": "3.9.13"
  }
 },
 "nbformat": 4,
 "nbformat_minor": 2
}
